{
 "cells": [
  {
   "cell_type": "code",
   "execution_count": null,
   "metadata": {},
   "outputs": [],
   "source": [
    "!conda install"
   ]
  },
  {
   "cell_type": "markdown",
   "metadata": {
    "deletable": false,
    "editable": false,
    "nbgrader": {
     "checksum": "ab80976c194c2c1bfebb7f3a12fc4e58",
     "grade": false,
     "grade_id": "cell-018440ed2f1b6a62",
     "locked": true,
     "schema_version": 1,
     "solution": false
    }
   },
   "source": [
    "# Assignment 3\n",
    "All questions are weighted the same in this assignment. This assignment requires more individual learning then the last one did - you are encouraged to check out the [pandas documentation](http://pandas.pydata.org/pandas-docs/stable/) to find functions or methods you might not have used yet, or ask questions on [Stack Overflow](http://stackoverflow.com/) and tag them as pandas and python related. All questions are worth the same number of points except question 1 which is worth 17% of the assignment grade.\n",
    "\n",
    "**Note**: Questions 3-13 rely on your question 1 answer."
   ]
  },
  {
   "cell_type": "code",
   "execution_count": 108,
   "metadata": {},
   "outputs": [],
   "source": [
    "import pandas as pd\n",
    "import numpy as np\n",
    "import re\n",
    "from functools import reduce\n",
    "pd.set_option('display.max_columns', None)\n",
    "pd.set_option('display.max_rows', None)\n",
    "pd.set_option('float_format', '{:f}'.format)\n",
    "e = [str(x) for x in range(1960,2006)]\n",
    "def dstrip(df,x):\n",
    "    d = list(df[x])\n",
    "    for i in d:\n",
    "        r = d.index(i)\n",
    "        d[r] = int(i)\n",
    "def line_remove(df,x):\n",
    "    d = list(df[x])\n",
    "    for i in d:\n",
    "        j = re.sub(\"[\\(\\[].*?[\\)\\]]\", \"\", i)\n",
    "        r = d.index(i)\n",
    "        d[r] = j.strip()\n",
    "    return d\n",
    "def line_strip(df,x):\n",
    "    d = list(df[x])\n",
    "    for i in reversed(range(1,30)):\n",
    "        y = str(i)\n",
    "        for j in d:\n",
    "            if j.endswith(y):\n",
    "                r = d.index(j)\n",
    "                d[r] = j.rstrip(y)\n",
    "    return d\n",
    "def unique(a,b,c,d):\n",
    "    count = 0\n",
    "    for i in a:\n",
    "        if i in b:\n",
    "            if i in c:\n",
    "                if i in d:\n",
    "                    b.remove(i)\n",
    "                    c.remove(i)\n",
    "                    d.remove(i)\n",
    "                else:\n",
    "                    continue\n",
    "            else:\n",
    "                continue\n",
    "        else:\n",
    "            continue\n",
    "    return b,c,d\n",
    "# Filter all warnings. If you would like to see the warnings, please comment the two lines below.\n",
    "import warnings\n",
    "warnings.filterwarnings('ignore')"
   ]
  },
  {
   "cell_type": "markdown",
   "metadata": {
    "deletable": false,
    "editable": false,
    "nbgrader": {
     "checksum": "68063b8b0783f3d8122b516e0cce5f45",
     "grade": false,
     "grade_id": "cell-7e5190c7ff1f2e42",
     "locked": true,
     "schema_version": 1,
     "solution": false
    }
   },
   "source": [
    "### Question 1\n",
    "Load the energy data from the file `assets/Energy Indicators.xls`, which is a list of indicators of [energy supply and renewable electricity production](assets/Energy%20Indicators.xls) from the [United Nations](http://unstats.un.org/unsd/environment/excel_file_tables/2013/Energy%20Indicators.xls) for the year 2013, and should be put into a DataFrame with the variable name of **Energy**.\n",
    "\n",
    "Keep in mind that this is an Excel file, and not a comma separated values file. Also, make sure to exclude the footer and header information from the datafile. The first two columns are unneccessary, so you should get rid of them, and you should change the column labels so that the columns are:\n",
    "\n",
    "`['Country', 'Energy Supply', 'Energy Supply per Capita', '% Renewable]`\n",
    "\n",
    "Convert `Energy Supply` to gigajoules (**Note: there are 1,000,000 gigajoules in a petajoule**). For all countries which have missing data (e.g. data with \"...\") make sure this is reflected as `np.NaN` values.\n",
    "\n",
    "Rename the following list of countries (for use in later questions):\n",
    "\n",
    "```\"Republic of Korea\": \"South Korea\",\n",
    "\"United States of America\": \"United States\",\n",
    "\"United Kingdom of Great Britain and Northern Ireland\": \"United Kingdom\",\n",
    "\"China, Hong Kong Special Administrative Region\": \"Hong Kong\"```\n",
    "\n",
    "There are also several countries with numbers and/or parenthesis in their name. Be sure to remove these, e.g. `'Bolivia (Plurinational State of)'` should be `'Bolivia'`.  `'Switzerland17'` should be `'Switzerland'`.\n",
    "\n",
    "Next, load the GDP data from the file `assets/world_bank.csv`, which is a csv containing countries' GDP from 1960 to 2015 from [World Bank](http://data.worldbank.org/indicator/NY.GDP.MKTP.CD). Call this DataFrame **GDP**. \n",
    "\n",
    "Make sure to skip the header, and rename the following list of countries:\n",
    "\n",
    "```\"Korea, Rep.\": \"South Korea\", \n",
    "\"Iran, Islamic Rep.\": \"Iran\",\n",
    "\"Hong Kong SAR, China\": \"Hong Kong\"```\n",
    "\n",
    "Finally, load the [Sciamgo Journal and Country Rank data for Energy Engineering and Power Technology](http://www.scimagojr.com/countryrank.php?category=2102) from the file `assets/scimagojr-3.xlsx`, which ranks countries based on their journal contributions in the aforementioned area. Call this DataFrame **ScimEn**.\n",
    "\n",
    "Join the three datasets: GDP, Energy, and ScimEn into a new dataset (using the intersection of country names). Use only the last 10 years (2006-2015) of GDP data and only the top 15 countries by Scimagojr 'Rank' (Rank 1 through 15). \n",
    "\n",
    "The index of this DataFrame should be the name of the country, and the columns should be ['Rank', 'Documents', 'Citable documents', 'Citations', 'Self-citations',\n",
    "       'Citations per document', 'H index', 'Energy Supply',\n",
    "       'Energy Supply per Capita', '% Renewable', '2006', '2007', '2008',\n",
    "       '2009', '2010', '2011', '2012', '2013', '2014', '2015'].\n",
    "\n",
    "*This function should return a DataFrame with 20 columns and 15 entries, and the rows of the DataFrame should be sorted by \"Rank\".*"
   ]
  },
  {
   "cell_type": "code",
   "execution_count": 109,
   "metadata": {
    "deletable": false,
    "nbgrader": {
     "checksum": "57e040f07954f979910eddc0f489ffe5",
     "grade": false,
     "grade_id": "cell-bce4d6f2ecdd1297",
     "locked": false,
     "schema_version": 1,
     "solution": true
    },
    "scrolled": true
   },
   "outputs": [
    {
     "data": {
      "text/html": [
       "<div>\n",
       "<style scoped>\n",
       "    .dataframe tbody tr th:only-of-type {\n",
       "        vertical-align: middle;\n",
       "    }\n",
       "\n",
       "    .dataframe tbody tr th {\n",
       "        vertical-align: top;\n",
       "    }\n",
       "\n",
       "    .dataframe thead th {\n",
       "        text-align: right;\n",
       "    }\n",
       "</style>\n",
       "<table border=\"1\" class=\"dataframe\">\n",
       "  <thead>\n",
       "    <tr style=\"text-align: right;\">\n",
       "      <th></th>\n",
       "      <th>Rank</th>\n",
       "      <th>Documents</th>\n",
       "      <th>Citable documents</th>\n",
       "      <th>Citations</th>\n",
       "      <th>Self-citations</th>\n",
       "      <th>Citations per document</th>\n",
       "      <th>H index</th>\n",
       "      <th>Energy Supply</th>\n",
       "      <th>Energy Supply per Capita</th>\n",
       "      <th>% Renewable</th>\n",
       "      <th>2006</th>\n",
       "      <th>2007</th>\n",
       "      <th>2008</th>\n",
       "      <th>2009</th>\n",
       "      <th>2010</th>\n",
       "      <th>2011</th>\n",
       "      <th>2012</th>\n",
       "      <th>2013</th>\n",
       "      <th>2014</th>\n",
       "      <th>2015</th>\n",
       "    </tr>\n",
       "    <tr>\n",
       "      <th>Country</th>\n",
       "      <th></th>\n",
       "      <th></th>\n",
       "      <th></th>\n",
       "      <th></th>\n",
       "      <th></th>\n",
       "      <th></th>\n",
       "      <th></th>\n",
       "      <th></th>\n",
       "      <th></th>\n",
       "      <th></th>\n",
       "      <th></th>\n",
       "      <th></th>\n",
       "      <th></th>\n",
       "      <th></th>\n",
       "      <th></th>\n",
       "      <th></th>\n",
       "      <th></th>\n",
       "      <th></th>\n",
       "      <th></th>\n",
       "      <th></th>\n",
       "    </tr>\n",
       "  </thead>\n",
       "  <tbody>\n",
       "    <tr>\n",
       "      <th>China</th>\n",
       "      <td>1</td>\n",
       "      <td>127050</td>\n",
       "      <td>126767</td>\n",
       "      <td>597237</td>\n",
       "      <td>411683</td>\n",
       "      <td>4.700000</td>\n",
       "      <td>138</td>\n",
       "      <td>127191000000</td>\n",
       "      <td>93</td>\n",
       "      <td>19.754910</td>\n",
       "      <td>3992331462570.890137</td>\n",
       "      <td>4559041383517.929688</td>\n",
       "      <td>4997775145605.959961</td>\n",
       "      <td>5459247267275.139648</td>\n",
       "      <td>6039658508485.589844</td>\n",
       "      <td>6612490294273.650391</td>\n",
       "      <td>7124977970399.610352</td>\n",
       "      <td>7672447738017.419922</td>\n",
       "      <td>8230120617793.519531</td>\n",
       "      <td>8797998940421.279297</td>\n",
       "    </tr>\n",
       "    <tr>\n",
       "      <th>United States</th>\n",
       "      <td>2</td>\n",
       "      <td>96661</td>\n",
       "      <td>94747</td>\n",
       "      <td>792274</td>\n",
       "      <td>265436</td>\n",
       "      <td>8.200000</td>\n",
       "      <td>230</td>\n",
       "      <td>90838000000</td>\n",
       "      <td>286</td>\n",
       "      <td>11.570980</td>\n",
       "      <td>14792303791800.000000</td>\n",
       "      <td>15055395304800.000000</td>\n",
       "      <td>15011490541400.000000</td>\n",
       "      <td>14594842181900.000000</td>\n",
       "      <td>14964372000000.000000</td>\n",
       "      <td>15204019634600.000000</td>\n",
       "      <td>15542161722300.000000</td>\n",
       "      <td>15773666098800.000000</td>\n",
       "      <td>16156618476000.000000</td>\n",
       "      <td>16548573278300.000000</td>\n",
       "    </tr>\n",
       "    <tr>\n",
       "      <th>Japan</th>\n",
       "      <td>3</td>\n",
       "      <td>30504</td>\n",
       "      <td>30287</td>\n",
       "      <td>223024</td>\n",
       "      <td>61554</td>\n",
       "      <td>7.310000</td>\n",
       "      <td>134</td>\n",
       "      <td>18984000000</td>\n",
       "      <td>149</td>\n",
       "      <td>10.232820</td>\n",
       "      <td>5496541517363.309570</td>\n",
       "      <td>5617035943770.730469</td>\n",
       "      <td>5558526873313.820312</td>\n",
       "      <td>5251308399909.320312</td>\n",
       "      <td>5498717815809.769531</td>\n",
       "      <td>5473738114222.049805</td>\n",
       "      <td>5569101602926.179688</td>\n",
       "      <td>5644658523313.419922</td>\n",
       "      <td>5642884448582.190430</td>\n",
       "      <td>5669563143140.969727</td>\n",
       "    </tr>\n",
       "    <tr>\n",
       "      <th>United Kingdom</th>\n",
       "      <td>4</td>\n",
       "      <td>20944</td>\n",
       "      <td>20357</td>\n",
       "      <td>206091</td>\n",
       "      <td>37874</td>\n",
       "      <td>9.840000</td>\n",
       "      <td>139</td>\n",
       "      <td>7920000000</td>\n",
       "      <td>124</td>\n",
       "      <td>10.600470</td>\n",
       "      <td>2419630700401.729980</td>\n",
       "      <td>2482203235475.899902</td>\n",
       "      <td>2470614405284.299805</td>\n",
       "      <td>2367047611711.990234</td>\n",
       "      <td>2403504326328.799805</td>\n",
       "      <td>2450911011124.850098</td>\n",
       "      <td>2479808627472.189941</td>\n",
       "      <td>2533370110012.359863</td>\n",
       "      <td>2605643189894.930176</td>\n",
       "      <td>2666333396477.129883</td>\n",
       "    </tr>\n",
       "    <tr>\n",
       "      <th>Russian Federation</th>\n",
       "      <td>5</td>\n",
       "      <td>18534</td>\n",
       "      <td>18301</td>\n",
       "      <td>34266</td>\n",
       "      <td>12422</td>\n",
       "      <td>1.850000</td>\n",
       "      <td>57</td>\n",
       "      <td>30709000000</td>\n",
       "      <td>214</td>\n",
       "      <td>17.288680</td>\n",
       "      <td>1385792607182.580078</td>\n",
       "      <td>1504071117741.300049</td>\n",
       "      <td>1583004071092.110107</td>\n",
       "      <td>1459199142720.260010</td>\n",
       "      <td>1524917468442.010010</td>\n",
       "      <td>1589942641764.290039</td>\n",
       "      <td>1645875899596.270020</td>\n",
       "      <td>1666934123163.159912</td>\n",
       "      <td>1678708855070.860107</td>\n",
       "      <td>1616148858033.770020</td>\n",
       "    </tr>\n",
       "    <tr>\n",
       "      <th>Canada</th>\n",
       "      <td>6</td>\n",
       "      <td>17899</td>\n",
       "      <td>17620</td>\n",
       "      <td>215003</td>\n",
       "      <td>40930</td>\n",
       "      <td>12.010000</td>\n",
       "      <td>149</td>\n",
       "      <td>10431000000</td>\n",
       "      <td>296</td>\n",
       "      <td>61.945430</td>\n",
       "      <td>1564468853329.449951</td>\n",
       "      <td>1596739898466.320068</td>\n",
       "      <td>1612713061250.239990</td>\n",
       "      <td>1565144676082.310059</td>\n",
       "      <td>1613406134731.120117</td>\n",
       "      <td>1664086754804.889893</td>\n",
       "      <td>1693132927878.080078</td>\n",
       "      <td>1730687770724.129883</td>\n",
       "      <td>1773485821199.770020</td>\n",
       "      <td>1792608764608.810059</td>\n",
       "    </tr>\n",
       "    <tr>\n",
       "      <th>Germany</th>\n",
       "      <td>7</td>\n",
       "      <td>17027</td>\n",
       "      <td>16831</td>\n",
       "      <td>140566</td>\n",
       "      <td>27426</td>\n",
       "      <td>8.260000</td>\n",
       "      <td>126</td>\n",
       "      <td>13261000000</td>\n",
       "      <td>165</td>\n",
       "      <td>17.901530</td>\n",
       "      <td>3332890754966.890137</td>\n",
       "      <td>3441560834437.089844</td>\n",
       "      <td>3478809377483.439941</td>\n",
       "      <td>3283339933774.830078</td>\n",
       "      <td>3417298013245.029785</td>\n",
       "      <td>3542371125827.810059</td>\n",
       "      <td>3556723774834.439941</td>\n",
       "      <td>3567317390728.479980</td>\n",
       "      <td>3624386278145.700195</td>\n",
       "      <td>3685555907284.770020</td>\n",
       "    </tr>\n",
       "    <tr>\n",
       "      <th>India</th>\n",
       "      <td>8</td>\n",
       "      <td>15005</td>\n",
       "      <td>14841</td>\n",
       "      <td>128763</td>\n",
       "      <td>37209</td>\n",
       "      <td>8.580000</td>\n",
       "      <td>115</td>\n",
       "      <td>33195000000</td>\n",
       "      <td>26</td>\n",
       "      <td>14.969080</td>\n",
       "      <td>1265894322131.090088</td>\n",
       "      <td>1374865195244.500000</td>\n",
       "      <td>1428360609657.800049</td>\n",
       "      <td>1549482541544.699951</td>\n",
       "      <td>1708458876829.919922</td>\n",
       "      <td>1821872415623.620117</td>\n",
       "      <td>1924235460945.250000</td>\n",
       "      <td>2051981849791.689941</td>\n",
       "      <td>2200616575310.970215</td>\n",
       "      <td>2367206118959.060059</td>\n",
       "    </tr>\n",
       "    <tr>\n",
       "      <th>France</th>\n",
       "      <td>9</td>\n",
       "      <td>13153</td>\n",
       "      <td>12973</td>\n",
       "      <td>130632</td>\n",
       "      <td>28601</td>\n",
       "      <td>9.930000</td>\n",
       "      <td>114</td>\n",
       "      <td>10597000000</td>\n",
       "      <td>166</td>\n",
       "      <td>17.020280</td>\n",
       "      <td>2607839735099.339844</td>\n",
       "      <td>2669423841059.600098</td>\n",
       "      <td>2674637086092.709961</td>\n",
       "      <td>2595966887417.220215</td>\n",
       "      <td>2646994701986.750000</td>\n",
       "      <td>2702031788079.470215</td>\n",
       "      <td>2706968211920.529785</td>\n",
       "      <td>2722566887417.220215</td>\n",
       "      <td>2729631788079.470215</td>\n",
       "      <td>2761185430463.580078</td>\n",
       "    </tr>\n",
       "    <tr>\n",
       "      <th>South Korea</th>\n",
       "      <td>10</td>\n",
       "      <td>11983</td>\n",
       "      <td>11923</td>\n",
       "      <td>114675</td>\n",
       "      <td>22595</td>\n",
       "      <td>9.570000</td>\n",
       "      <td>104</td>\n",
       "      <td>11007000000</td>\n",
       "      <td>221</td>\n",
       "      <td>2.279353</td>\n",
       "      <td>941019882149.125000</td>\n",
       "      <td>992431619676.197021</td>\n",
       "      <td>1020509638539.709961</td>\n",
       "      <td>1027729932849.170044</td>\n",
       "      <td>1094499338702.719971</td>\n",
       "      <td>1134795571930.639893</td>\n",
       "      <td>1160809426196.790039</td>\n",
       "      <td>1194429021591.570068</td>\n",
       "      <td>1234340240503.489990</td>\n",
       "      <td>1266580410309.110107</td>\n",
       "    </tr>\n",
       "    <tr>\n",
       "      <th>Italy</th>\n",
       "      <td>11</td>\n",
       "      <td>10964</td>\n",
       "      <td>10794</td>\n",
       "      <td>111850</td>\n",
       "      <td>26661</td>\n",
       "      <td>10.200000</td>\n",
       "      <td>106</td>\n",
       "      <td>6530000000</td>\n",
       "      <td>109</td>\n",
       "      <td>33.667230</td>\n",
       "      <td>2202169663576.160156</td>\n",
       "      <td>2234626814701.990234</td>\n",
       "      <td>2211154176556.290039</td>\n",
       "      <td>2089937511523.179932</td>\n",
       "      <td>2125184794172.189941</td>\n",
       "      <td>2137439133774.830078</td>\n",
       "      <td>2077184315761.590088</td>\n",
       "      <td>2040871178145.699951</td>\n",
       "      <td>2033867707549.669922</td>\n",
       "      <td>2049315603576.159912</td>\n",
       "    </tr>\n",
       "    <tr>\n",
       "      <th>Spain</th>\n",
       "      <td>12</td>\n",
       "      <td>9428</td>\n",
       "      <td>9330</td>\n",
       "      <td>123336</td>\n",
       "      <td>23964</td>\n",
       "      <td>13.080000</td>\n",
       "      <td>115</td>\n",
       "      <td>4923000000</td>\n",
       "      <td>106</td>\n",
       "      <td>37.968590</td>\n",
       "      <td>1414822516556.290039</td>\n",
       "      <td>1468145695364.239990</td>\n",
       "      <td>1484529801324.500000</td>\n",
       "      <td>1431475496688.739990</td>\n",
       "      <td>1431672847682.120117</td>\n",
       "      <td>1417354966887.419922</td>\n",
       "      <td>1380215894039.729980</td>\n",
       "      <td>1357139072847.679932</td>\n",
       "      <td>1375605298013.239990</td>\n",
       "      <td>1419821192052.979980</td>\n",
       "    </tr>\n",
       "    <tr>\n",
       "      <th>Iran</th>\n",
       "      <td>13</td>\n",
       "      <td>8896</td>\n",
       "      <td>8819</td>\n",
       "      <td>57470</td>\n",
       "      <td>19125</td>\n",
       "      <td>6.460000</td>\n",
       "      <td>72</td>\n",
       "      <td>9172000000</td>\n",
       "      <td>119</td>\n",
       "      <td>5.707721</td>\n",
       "      <td>389552313541.270020</td>\n",
       "      <td>425064554419.087036</td>\n",
       "      <td>428990857822.094971</td>\n",
       "      <td>438920754763.986023</td>\n",
       "      <td>467790215915.476013</td>\n",
       "      <td>485330901134.447998</td>\n",
       "      <td>453256899727.832031</td>\n",
       "      <td>444592553889.770996</td>\n",
       "      <td>463902735245.890015</td>\n",
       "      <td>nan</td>\n",
       "    </tr>\n",
       "    <tr>\n",
       "      <th>Australia</th>\n",
       "      <td>14</td>\n",
       "      <td>8831</td>\n",
       "      <td>8725</td>\n",
       "      <td>90765</td>\n",
       "      <td>15606</td>\n",
       "      <td>10.280000</td>\n",
       "      <td>107</td>\n",
       "      <td>5386000000</td>\n",
       "      <td>231</td>\n",
       "      <td>11.810810</td>\n",
       "      <td>1021939264106.670044</td>\n",
       "      <td>1060340245233.550049</td>\n",
       "      <td>1099643871866.030029</td>\n",
       "      <td>1119653852349.080078</td>\n",
       "      <td>1142250506474.060059</td>\n",
       "      <td>1169431057881.909912</td>\n",
       "      <td>1211913217353.489990</td>\n",
       "      <td>1241484494446.530029</td>\n",
       "      <td>1272519759757.290039</td>\n",
       "      <td>1301251030445.659912</td>\n",
       "    </tr>\n",
       "    <tr>\n",
       "      <th>Brazil</th>\n",
       "      <td>15</td>\n",
       "      <td>8668</td>\n",
       "      <td>8596</td>\n",
       "      <td>60702</td>\n",
       "      <td>14396</td>\n",
       "      <td>7.000000</td>\n",
       "      <td>86</td>\n",
       "      <td>12149000000</td>\n",
       "      <td>59</td>\n",
       "      <td>69.648030</td>\n",
       "      <td>1845079664513.560059</td>\n",
       "      <td>1957118136056.330078</td>\n",
       "      <td>2056809174052.929932</td>\n",
       "      <td>2054214562458.189941</td>\n",
       "      <td>2208872214643.020020</td>\n",
       "      <td>2295244758549.529785</td>\n",
       "      <td>2339209222185.089844</td>\n",
       "      <td>2409739667075.819824</td>\n",
       "      <td>2412230647720.450195</td>\n",
       "      <td>2319423390494.129883</td>\n",
       "    </tr>\n",
       "  </tbody>\n",
       "</table>\n",
       "</div>"
      ],
      "text/plain": [
       "                    Rank  Documents  Citable documents  Citations  \\\n",
       "Country                                                             \n",
       "China                  1     127050             126767     597237   \n",
       "United States          2      96661              94747     792274   \n",
       "Japan                  3      30504              30287     223024   \n",
       "United Kingdom         4      20944              20357     206091   \n",
       "Russian Federation     5      18534              18301      34266   \n",
       "Canada                 6      17899              17620     215003   \n",
       "Germany                7      17027              16831     140566   \n",
       "India                  8      15005              14841     128763   \n",
       "France                 9      13153              12973     130632   \n",
       "South Korea           10      11983              11923     114675   \n",
       "Italy                 11      10964              10794     111850   \n",
       "Spain                 12       9428               9330     123336   \n",
       "Iran                  13       8896               8819      57470   \n",
       "Australia             14       8831               8725      90765   \n",
       "Brazil                15       8668               8596      60702   \n",
       "\n",
       "                    Self-citations  Citations per document  H index  \\\n",
       "Country                                                               \n",
       "China                       411683                4.700000      138   \n",
       "United States               265436                8.200000      230   \n",
       "Japan                        61554                7.310000      134   \n",
       "United Kingdom               37874                9.840000      139   \n",
       "Russian Federation           12422                1.850000       57   \n",
       "Canada                       40930               12.010000      149   \n",
       "Germany                      27426                8.260000      126   \n",
       "India                        37209                8.580000      115   \n",
       "France                       28601                9.930000      114   \n",
       "South Korea                  22595                9.570000      104   \n",
       "Italy                        26661               10.200000      106   \n",
       "Spain                        23964               13.080000      115   \n",
       "Iran                         19125                6.460000       72   \n",
       "Australia                    15606               10.280000      107   \n",
       "Brazil                       14396                7.000000       86   \n",
       "\n",
       "                   Energy Supply Energy Supply per Capita % Renewable  \\\n",
       "Country                                                                 \n",
       "China               127191000000                       93   19.754910   \n",
       "United States        90838000000                      286   11.570980   \n",
       "Japan                18984000000                      149   10.232820   \n",
       "United Kingdom        7920000000                      124   10.600470   \n",
       "Russian Federation   30709000000                      214   17.288680   \n",
       "Canada               10431000000                      296   61.945430   \n",
       "Germany              13261000000                      165   17.901530   \n",
       "India                33195000000                       26   14.969080   \n",
       "France               10597000000                      166   17.020280   \n",
       "South Korea          11007000000                      221    2.279353   \n",
       "Italy                 6530000000                      109   33.667230   \n",
       "Spain                 4923000000                      106   37.968590   \n",
       "Iran                  9172000000                      119    5.707721   \n",
       "Australia             5386000000                      231   11.810810   \n",
       "Brazil               12149000000                       59   69.648030   \n",
       "\n",
       "                                    2006                  2007  \\\n",
       "Country                                                          \n",
       "China               3992331462570.890137  4559041383517.929688   \n",
       "United States      14792303791800.000000 15055395304800.000000   \n",
       "Japan               5496541517363.309570  5617035943770.730469   \n",
       "United Kingdom      2419630700401.729980  2482203235475.899902   \n",
       "Russian Federation  1385792607182.580078  1504071117741.300049   \n",
       "Canada              1564468853329.449951  1596739898466.320068   \n",
       "Germany             3332890754966.890137  3441560834437.089844   \n",
       "India               1265894322131.090088  1374865195244.500000   \n",
       "France              2607839735099.339844  2669423841059.600098   \n",
       "South Korea          941019882149.125000   992431619676.197021   \n",
       "Italy               2202169663576.160156  2234626814701.990234   \n",
       "Spain               1414822516556.290039  1468145695364.239990   \n",
       "Iran                 389552313541.270020   425064554419.087036   \n",
       "Australia           1021939264106.670044  1060340245233.550049   \n",
       "Brazil              1845079664513.560059  1957118136056.330078   \n",
       "\n",
       "                                    2008                  2009  \\\n",
       "Country                                                          \n",
       "China               4997775145605.959961  5459247267275.139648   \n",
       "United States      15011490541400.000000 14594842181900.000000   \n",
       "Japan               5558526873313.820312  5251308399909.320312   \n",
       "United Kingdom      2470614405284.299805  2367047611711.990234   \n",
       "Russian Federation  1583004071092.110107  1459199142720.260010   \n",
       "Canada              1612713061250.239990  1565144676082.310059   \n",
       "Germany             3478809377483.439941  3283339933774.830078   \n",
       "India               1428360609657.800049  1549482541544.699951   \n",
       "France              2674637086092.709961  2595966887417.220215   \n",
       "South Korea         1020509638539.709961  1027729932849.170044   \n",
       "Italy               2211154176556.290039  2089937511523.179932   \n",
       "Spain               1484529801324.500000  1431475496688.739990   \n",
       "Iran                 428990857822.094971   438920754763.986023   \n",
       "Australia           1099643871866.030029  1119653852349.080078   \n",
       "Brazil              2056809174052.929932  2054214562458.189941   \n",
       "\n",
       "                                    2010                  2011  \\\n",
       "Country                                                          \n",
       "China               6039658508485.589844  6612490294273.650391   \n",
       "United States      14964372000000.000000 15204019634600.000000   \n",
       "Japan               5498717815809.769531  5473738114222.049805   \n",
       "United Kingdom      2403504326328.799805  2450911011124.850098   \n",
       "Russian Federation  1524917468442.010010  1589942641764.290039   \n",
       "Canada              1613406134731.120117  1664086754804.889893   \n",
       "Germany             3417298013245.029785  3542371125827.810059   \n",
       "India               1708458876829.919922  1821872415623.620117   \n",
       "France              2646994701986.750000  2702031788079.470215   \n",
       "South Korea         1094499338702.719971  1134795571930.639893   \n",
       "Italy               2125184794172.189941  2137439133774.830078   \n",
       "Spain               1431672847682.120117  1417354966887.419922   \n",
       "Iran                 467790215915.476013   485330901134.447998   \n",
       "Australia           1142250506474.060059  1169431057881.909912   \n",
       "Brazil              2208872214643.020020  2295244758549.529785   \n",
       "\n",
       "                                    2012                  2013  \\\n",
       "Country                                                          \n",
       "China               7124977970399.610352  7672447738017.419922   \n",
       "United States      15542161722300.000000 15773666098800.000000   \n",
       "Japan               5569101602926.179688  5644658523313.419922   \n",
       "United Kingdom      2479808627472.189941  2533370110012.359863   \n",
       "Russian Federation  1645875899596.270020  1666934123163.159912   \n",
       "Canada              1693132927878.080078  1730687770724.129883   \n",
       "Germany             3556723774834.439941  3567317390728.479980   \n",
       "India               1924235460945.250000  2051981849791.689941   \n",
       "France              2706968211920.529785  2722566887417.220215   \n",
       "South Korea         1160809426196.790039  1194429021591.570068   \n",
       "Italy               2077184315761.590088  2040871178145.699951   \n",
       "Spain               1380215894039.729980  1357139072847.679932   \n",
       "Iran                 453256899727.832031   444592553889.770996   \n",
       "Australia           1211913217353.489990  1241484494446.530029   \n",
       "Brazil              2339209222185.089844  2409739667075.819824   \n",
       "\n",
       "                                    2014                  2015  \n",
       "Country                                                         \n",
       "China               8230120617793.519531  8797998940421.279297  \n",
       "United States      16156618476000.000000 16548573278300.000000  \n",
       "Japan               5642884448582.190430  5669563143140.969727  \n",
       "United Kingdom      2605643189894.930176  2666333396477.129883  \n",
       "Russian Federation  1678708855070.860107  1616148858033.770020  \n",
       "Canada              1773485821199.770020  1792608764608.810059  \n",
       "Germany             3624386278145.700195  3685555907284.770020  \n",
       "India               2200616575310.970215  2367206118959.060059  \n",
       "France              2729631788079.470215  2761185430463.580078  \n",
       "South Korea         1234340240503.489990  1266580410309.110107  \n",
       "Italy               2033867707549.669922  2049315603576.159912  \n",
       "Spain               1375605298013.239990  1419821192052.979980  \n",
       "Iran                 463902735245.890015                   nan  \n",
       "Australia           1272519759757.290039  1301251030445.659912  \n",
       "Brazil              2412230647720.450195  2319423390494.129883  "
      ]
     },
     "execution_count": 109,
     "metadata": {},
     "output_type": "execute_result"
    }
   ],
   "source": [
    "def answer_one():\n",
    "    df = pd.read_excel(\"assets/Energy Indicators.xls\",skiprows=9, skipfooter=38)\n",
    "    df.drop(df.columns[[0, 1,]], axis=1, inplace =True)\n",
    "    df = df.iloc[8:].set_index(df.index[:-8])\n",
    "    df = df.rename(columns={\"Energy Supply per capita\": \"Energy Supply per Capita\", \"Renewable Electricity Production\": \"% Renewable\"})\n",
    "    df.loc[df['Energy Supply'] == \"...\", 'Energy Supply']= np.nan\n",
    "    df.loc[df['Energy Supply per Capita'] == \"...\", 'Energy Supply per Capita']= np.nan\n",
    "    df['Energy Supply'] = df['Energy Supply'].mul(1000000)\n",
    "    df['Country'] = line_strip(df,'Country')\n",
    "    df['Country'] = line_remove(df,'Country')\n",
    "    df.loc[df['Country'] == \"Republic of Korea\", 'Country']= \"South Korea\"\n",
    "    df.loc[df['Country'] == \"United States of America\", 'Country']= \"United States\"\n",
    "    df.loc[df['Country'] == \"United Kingdom of Great Britain and Northern Ireland\", 'Country']= \"United Kingdom\"\n",
    "    df.loc[df['Country'] == \"China, Hong Kong Special Administrative Region\", 'Country']= \"Hong Kong\"\n",
    "    df.loc[df['Country'] == \"Iran, Islamic Rep.\", 'Country']= \"Iran\"\n",
    "    #df['Energy Supply per Capita']= dstrip(df,'Energy Supply per Capita')\n",
    "    df1 = pd.read_csv(\"assets/world_bank.csv\",skiprows=4, skipfooter=0)\n",
    "    df1.rename({'Country Name':'Country'},axis='columns',inplace = True)\n",
    "    df1.loc[df1['Country'] == \"Korea, Rep.\", 'Country']= \"South Korea\"\n",
    "    df1.loc[df1['Country'] == \"Iran, Islamic Rep.\", 'Country']= \"Iran\"\n",
    "    df1.loc[df1['Country'] == \"Hong Kong SAR, China\", 'Country']= \"Hong Kong\" \n",
    "    df2 = pd.read_excel(\"assets/scimagojr-3.xlsx\")\n",
    "    #raise NotImplementedError()\n",
    "    dfs = df.merge( df1, how='inner',on='Country')\n",
    "    dfs2 = pd.merge(dfs, df2, how='inner',on='Country')\n",
    "    dfs2.drop(['Country Code', 'Indicator Name', 'Indicator Code'], axis = 1,inplace= True)\n",
    "    dfs2= dfs2.sort_values('Rank').set_index('Country')\n",
    "    column_names = ['Rank', 'Documents', 'Citable documents', 'Citations', 'Self-citations', 'Citations per document', 'H index', 'Energy Supply', 'Energy Supply per Capita', '% Renewable', '2006', '2007', '2008', '2009', '2010', '2011', '2012', '2013', '2014', '2015']\n",
    "    dfs2 = dfs2.reindex(columns=column_names)\n",
    "    df_sub = dfs2.head(15)\n",
    "    return df_sub\n",
    "answer_one()"
   ]
  },
  {
   "cell_type": "code",
   "execution_count": 110,
   "metadata": {
    "deletable": false,
    "editable": false,
    "nbgrader": {
     "checksum": "7bcc18b325d2935427ac2566cddd3661",
     "grade": true,
     "grade_id": "cell-780b5a4da845dbc3",
     "locked": true,
     "points": 5,
     "schema_version": 1,
     "solution": false
    }
   },
   "outputs": [],
   "source": [
    "assert type(answer_one()) == pd.DataFrame, \"Q1: You should return a DataFrame!\"\n",
    "\n",
    "assert answer_one().shape == (15,20), \"Q1: Your DataFrame should have 20 columns and 15 entries!\"\n"
   ]
  },
  {
   "cell_type": "code",
   "execution_count": 111,
   "metadata": {
    "deletable": false,
    "editable": false,
    "nbgrader": {
     "checksum": "e241830bcf3f63326b4c9cdf50be8f86",
     "grade": true,
     "grade_id": "cell-74b5f0b971379f64",
     "locked": true,
     "points": 10,
     "schema_version": 1,
     "solution": false
    }
   },
   "outputs": [],
   "source": [
    "# Cell for autograder.\n"
   ]
  },
  {
   "cell_type": "markdown",
   "metadata": {
    "deletable": false,
    "editable": false,
    "nbgrader": {
     "checksum": "596280cd22ed98c5540580c62954ec2f",
     "grade": false,
     "grade_id": "cell-babe0ff2a1fc6b17",
     "locked": true,
     "schema_version": 1,
     "solution": false
    }
   },
   "source": [
    "### Question 2\n",
    "The previous question joined three datasets then reduced this to just the top 15 entries. When you joined the datasets, but before you reduced this to the top 15 items, how many entries did you lose?\n",
    "\n",
    "*This function should return a single number.*"
   ]
  },
  {
   "cell_type": "code",
   "execution_count": 112,
   "metadata": {
    "deletable": false,
    "editable": false,
    "nbgrader": {
     "checksum": "c9a34da81c80126fd23ae2eac33f98f8",
     "grade": false,
     "grade_id": "cell-96f84e7b693bef63",
     "locked": true,
     "schema_version": 1,
     "solution": false
    }
   },
   "outputs": [
    {
     "data": {
      "text/html": [
       "<svg width=\"800\" height=\"300\">\n",
       "  <circle cx=\"150\" cy=\"180\" r=\"80\" fill-opacity=\"0.2\" stroke=\"black\" stroke-width=\"2\" fill=\"blue\" />\n",
       "  <circle cx=\"200\" cy=\"100\" r=\"80\" fill-opacity=\"0.2\" stroke=\"black\" stroke-width=\"2\" fill=\"red\" />\n",
       "  <circle cx=\"100\" cy=\"100\" r=\"80\" fill-opacity=\"0.2\" stroke=\"black\" stroke-width=\"2\" fill=\"green\" />\n",
       "  <line x1=\"150\" y1=\"125\" x2=\"300\" y2=\"150\" stroke=\"black\" stroke-width=\"2\" fill=\"black\" stroke-dasharray=\"5,3\"/>\n",
       "  <text x=\"300\" y=\"165\" font-family=\"Verdana\" font-size=\"35\">Everything but this!</text>\n",
       "</svg>\n"
      ],
      "text/plain": [
       "<IPython.core.display.HTML object>"
      ]
     },
     "metadata": {},
     "output_type": "display_data"
    }
   ],
   "source": [
    "%%HTML\n",
    "<svg width=\"800\" height=\"300\">\n",
    "  <circle cx=\"150\" cy=\"180\" r=\"80\" fill-opacity=\"0.2\" stroke=\"black\" stroke-width=\"2\" fill=\"blue\" />\n",
    "  <circle cx=\"200\" cy=\"100\" r=\"80\" fill-opacity=\"0.2\" stroke=\"black\" stroke-width=\"2\" fill=\"red\" />\n",
    "  <circle cx=\"100\" cy=\"100\" r=\"80\" fill-opacity=\"0.2\" stroke=\"black\" stroke-width=\"2\" fill=\"green\" />\n",
    "  <line x1=\"150\" y1=\"125\" x2=\"300\" y2=\"150\" stroke=\"black\" stroke-width=\"2\" fill=\"black\" stroke-dasharray=\"5,3\"/>\n",
    "  <text x=\"300\" y=\"165\" font-family=\"Verdana\" font-size=\"35\">Everything but this!</text>\n",
    "</svg>"
   ]
  },
  {
   "cell_type": "code",
   "execution_count": 113,
   "metadata": {
    "scrolled": false
   },
   "outputs": [],
   "source": [
    "def final_others():\n",
    "    df = pd.read_excel(\"assets/Energy Indicators.xls\",skiprows=9, skipfooter=38)\n",
    "    df.drop(df.columns[[0, 1,]], axis=1, inplace =True)\n",
    "    df = df.iloc[8:].set_index(df.index[:-8])\n",
    "    df = df.rename(columns={\"Energy Supply per capita\": \"Energy Supply per Capita\", \"Renewable Electricity Production\": \"% Renewable\"})\n",
    "    df.loc[df['Energy Supply'] == \"...\", 'Energy Supply']= np.nan\n",
    "    df.loc[df['Energy Supply per Capita'] == \"...\", 'Energy Supply per Capita']= np.nan\n",
    "    df['Energy Supply'] = df['Energy Supply'].mul(1000000)\n",
    "    df['Country'] = line_strip(df,'Country')\n",
    "    df['Country'] = line_remove(df,'Country')\n",
    "    df.loc[df['Country'] == \"Republic of Korea\", 'Country']= \"South Korea\"\n",
    "    df.loc[df['Country'] == \"United States of America\", 'Country']= \"United States\"\n",
    "    df.loc[df['Country'] == \"United Kingdom of Great Britain and Northern Ireland\", 'Country']= \"United Kingdom\"\n",
    "    df.loc[df['Country'] == \"China, Hong Kong Special Administrative Region\", 'Country']= \"Hong Kong\"\n",
    "    df.loc[df['Country'] == \"Iran, Islamic Rep.\", 'Country']= \"Iran\"\n",
    "    df1 = pd.read_csv(\"assets/world_bank.csv\",skiprows=4, skipfooter=0)\n",
    "    df1.rename({'Country Name':'Country'},axis='columns',inplace = True)\n",
    "    df1.loc[df1['Country'] == \"Korea, Rep.\", 'Country']= \"South Korea\"\n",
    "    df1.loc[df1['Country'] == \"Iran, Islamic Rep.\", 'Country']= \"Iran\"\n",
    "    df1.loc[df1['Country'] == \"Hong Kong SAR, China\", 'Country']= \"Hong Kong\" \n",
    "    df2 = pd.read_excel(\"assets/scimagojr-3.xlsx\")\n",
    "    #raise NotImplementedError()\n",
    "    dfs = pd.merge(df, df2, how='inner',on='Country')\n",
    "    dfs2 = pd.merge(dfs, df1, how='inner',on='Country')\n",
    "    dfs2.drop(['Country Code', 'Indicator Name', 'Indicator Code'], axis = 1,inplace= True)\n",
    "    dfs2= dfs2.sort_values('Rank').set_index('Country')\n",
    "    column_names = ['Rank', 'Documents', 'Citable documents', 'Citations', 'Self-citations', 'Citations per document', 'H index', 'Energy Supply', 'Energy Supply per Capita', '% Renewable', '2006', '2007', '2008', '2009', '2010', '2011', '2012', '2013', '2014', '2015']\n",
    "    dfs2 = dfs2.reindex(columns=column_names)\n",
    "    return dfs2,df,df1,df2"
   ]
  },
  {
   "cell_type": "code",
   "execution_count": 114,
   "metadata": {
    "deletable": false,
    "nbgrader": {
     "checksum": "aeeb01fb73054269dd7b818d0945e2f7",
     "grade": false,
     "grade_id": "cell-b0c3202c000aada4",
     "locked": false,
     "schema_version": 1,
     "solution": true
    }
   },
   "outputs": [
    {
     "data": {
      "text/plain": [
       "156"
      ]
     },
     "execution_count": 114,
     "metadata": {},
     "output_type": "execute_result"
    }
   ],
   "source": [
    "def answer_two():\n",
    "    dfs2,df,df1,df2 = final_others()\n",
    "    dfs = pd.merge(df, df2, how='outer',on='Country')\n",
    "    dfs3 = pd.merge(dfs, df1, how='outer',on='Country')\n",
    "    return len(dfs3)-len(dfs2)\n",
    "answer_two()"
   ]
  },
  {
   "cell_type": "code",
   "execution_count": 115,
   "metadata": {
    "deletable": false,
    "editable": false,
    "nbgrader": {
     "checksum": "19759b4a6c03f34b647f66d343952619",
     "grade": true,
     "grade_id": "cell-be24cfcaa87ab071",
     "locked": true,
     "points": 6.66,
     "schema_version": 1,
     "solution": false
    }
   },
   "outputs": [],
   "source": [
    "assert type(answer_two()) == int, \"Q2: You should return an int number!\"\n"
   ]
  },
  {
   "cell_type": "markdown",
   "metadata": {
    "deletable": false,
    "editable": false,
    "nbgrader": {
     "checksum": "5af1b4f99cd383263130f4c00442a133",
     "grade": false,
     "grade_id": "cell-2e54816014e48c18",
     "locked": true,
     "schema_version": 1,
     "solution": false
    }
   },
   "source": [
    "### Question 3\n",
    "What are the top 15 countries for average GDP over the last 10 years?\n",
    "\n",
    "*This function should return a Series named `avgGDP` with 15 countries and their average GDP sorted in descending order.*"
   ]
  },
  {
   "cell_type": "code",
   "execution_count": 272,
   "metadata": {
    "deletable": false,
    "nbgrader": {
     "checksum": "a3490fd71a46cecfa3da698e006fe729",
     "grade": false,
     "grade_id": "cell-8c3d74335c0d489a",
     "locked": false,
     "schema_version": 1,
     "solution": true
    }
   },
   "outputs": [
    {
     "data": {
      "text/plain": [
       "Country\n",
       "United States        15364344302990.000000\n",
       "China                 6348608932836.099609\n",
       "Japan                 5542207638235.175781\n",
       "Germany               3493025339072.847656\n",
       "France                2681724635761.588867\n",
       "United Kingdom        2487906661418.417480\n",
       "Brazil                2189794143774.905029\n",
       "Italy                 2120175089933.776123\n",
       "India                 1769297396603.860107\n",
       "Canada                1660647466307.511963\n",
       "Russian Federation    1565459478480.660889\n",
       "Spain                 1418078278145.694092\n",
       "Australia             1164042729991.427002\n",
       "South Korea           1106714508244.852051\n",
       "Iran                   444155754051.094971\n",
       "dtype: float64"
      ]
     },
     "execution_count": 272,
     "metadata": {},
     "output_type": "execute_result"
    }
   ],
   "source": [
    "def answer_three():\n",
    "    from statistics import mean,stdev\n",
    "    t = answer_one()\n",
    "    #raise NotImplementedError()\n",
    "    frames = ['2006','2007', '2008', '2009', '2010', '2011', '2012', '2013', '2014', '2015']\n",
    "    t['AVG'] = t[frames].apply(lambda z: np.mean(z), axis=1)\n",
    "    ts = pd.Series(t['AVG'].values, index=t.index)\n",
    "    return ts.sort_values(ascending=False).head(15)\n",
    "answer_three()"
   ]
  },
  {
   "cell_type": "code",
   "execution_count": 117,
   "metadata": {
    "deletable": false,
    "editable": false,
    "nbgrader": {
     "checksum": "2f9c90ee07138f94c027c5d2f907ab13",
     "grade": true,
     "grade_id": "cell-aaaa11ef7d26f4cf",
     "locked": true,
     "points": 6.66,
     "schema_version": 1,
     "solution": false
    }
   },
   "outputs": [],
   "source": [
    "assert type(answer_three()) == pd.Series, \"Q3: You should return a Series!\"\n"
   ]
  },
  {
   "cell_type": "markdown",
   "metadata": {
    "deletable": false,
    "editable": false,
    "locked": true
   },
   "source": [
    "### Question 4\n",
    "By how much had the GDP changed over the 10 year span for the country with the 6th largest average GDP?\n",
    "\n",
    "*This function should return a single number.*"
   ]
  },
  {
   "cell_type": "code",
   "execution_count": 275,
   "metadata": {
    "deletable": false,
    "nbgrader": {
     "checksum": "768a19bcc8adc6991fe5c757e95ba784",
     "grade": false,
     "grade_id": "cell-7f77d099e3e0bbee",
     "locked": false,
     "schema_version": 1,
     "solution": true
    }
   },
   "outputs": [
    {
     "data": {
      "text/plain": [
       "246702696075.3999"
      ]
     },
     "execution_count": 275,
     "metadata": {},
     "output_type": "execute_result"
    }
   ],
   "source": [
    "def answer_four():\n",
    "    t = answer_one()\n",
    "    return t['2015']['United Kingdom'] - t['2006']['United Kingdom']\n",
    "    #raise NotImplementedError()\n",
    "answer_four()"
   ]
  },
  {
   "cell_type": "code",
   "execution_count": 119,
   "metadata": {
    "deletable": false,
    "editable": false,
    "nbgrader": {
     "checksum": "a7770c49cdfac4fa6368dfe8b39e6474",
     "grade": true,
     "grade_id": "cell-564dd8e5e24b0f83",
     "locked": true,
     "points": 6.66,
     "schema_version": 1,
     "solution": false
    }
   },
   "outputs": [],
   "source": [
    "# Cell for autograder.\n"
   ]
  },
  {
   "cell_type": "markdown",
   "metadata": {
    "deletable": false,
    "editable": false,
    "nbgrader": {
     "checksum": "ed6dbc94ff1b6268873413fee12741cd",
     "grade": false,
     "grade_id": "cell-617669111e38ca15",
     "locked": true,
     "schema_version": 1,
     "solution": false
    }
   },
   "source": [
    "### Question 5\n",
    "What is the mean energy supply per capita?\n",
    "\n",
    "*This function should return a single number.*"
   ]
  },
  {
   "cell_type": "code",
   "execution_count": 120,
   "metadata": {
    "deletable": false,
    "nbgrader": {
     "checksum": "cfd61a1735889e7ef20692ca0d28ddcb",
     "grade": false,
     "grade_id": "cell-58e79d558e982eef",
     "locked": false,
     "schema_version": 1,
     "solution": true
    }
   },
   "outputs": [
    {
     "data": {
      "text/plain": [
       "157.6"
      ]
     },
     "execution_count": 120,
     "metadata": {},
     "output_type": "execute_result"
    }
   ],
   "source": [
    "def answer_five():\n",
    "    t = answer_one()\n",
    "    return np.mean(t['Energy Supply per Capita'])\n",
    "    #raise NotImplementedError()\n",
    "answer_five()"
   ]
  },
  {
   "cell_type": "code",
   "execution_count": 121,
   "metadata": {
    "deletable": false,
    "editable": false,
    "nbgrader": {
     "checksum": "9d61bf22656baeecc77f63d54448590e",
     "grade": true,
     "grade_id": "cell-30cc66180851638c",
     "locked": true,
     "points": 6.66,
     "schema_version": 1,
     "solution": false
    }
   },
   "outputs": [],
   "source": [
    "# Cell for autograder.\n"
   ]
  },
  {
   "cell_type": "markdown",
   "metadata": {
    "deletable": false,
    "editable": false,
    "nbgrader": {
     "checksum": "2c7a163ae96f56317756456b0d9d695b",
     "grade": false,
     "grade_id": "cell-5c11ddd12fd71b3f",
     "locked": true,
     "schema_version": 1,
     "solution": false
    }
   },
   "source": [
    "### Question 6\n",
    "What country has the maximum % Renewable and what is the percentage?\n",
    "\n",
    "*This function should return a tuple with the name of the country and the percentage.*"
   ]
  },
  {
   "cell_type": "code",
   "execution_count": 122,
   "metadata": {
    "deletable": false,
    "nbgrader": {
     "checksum": "f8657f18c77eb0f752bca3cc48561da3",
     "grade": false,
     "grade_id": "cell-b6824b78e74619f9",
     "locked": false,
     "schema_version": 1,
     "solution": true
    }
   },
   "outputs": [
    {
     "data": {
      "text/plain": [
       "('Brazil', 70)"
      ]
     },
     "execution_count": 122,
     "metadata": {},
     "output_type": "execute_result"
    }
   ],
   "source": [
    "def answer_six():\n",
    "    t = answer_one()\n",
    "    m = t['% Renewable'].sort_values()\n",
    "    return (m[m == m[-1]].index[0],round(m[-1]))\n",
    "    #raise NotImplementedError()\n",
    "answer_six()"
   ]
  },
  {
   "cell_type": "code",
   "execution_count": 123,
   "metadata": {
    "deletable": false,
    "editable": false,
    "nbgrader": {
     "checksum": "f8b28b0a824a3b76a6244c1273648ccd",
     "grade": true,
     "grade_id": "cell-2bd201c5c7bdd80f",
     "locked": true,
     "points": 6.66,
     "schema_version": 1,
     "solution": false
    }
   },
   "outputs": [],
   "source": [
    "assert type(answer_six()) == tuple, \"Q6: You should return a tuple!\"\n",
    "\n",
    "assert type(answer_six()[0]) == str, \"Q6: The first element in your result should be the name of the country!\"\n"
   ]
  },
  {
   "cell_type": "markdown",
   "metadata": {
    "deletable": false,
    "editable": false,
    "nbgrader": {
     "checksum": "a7b561a486a28ee4ba80a40715617c6d",
     "grade": false,
     "grade_id": "cell-ddf52a85ad3d5a11",
     "locked": true,
     "schema_version": 1,
     "solution": false
    }
   },
   "source": [
    "### Question 7\n",
    "Create a new column that is the ratio of Self-Citations to Total Citations. \n",
    "What is the maximum value for this new column, and what country has the highest ratio?\n",
    "\n",
    "*This function should return a tuple with the name of the country and the ratio.*"
   ]
  },
  {
   "cell_type": "code",
   "execution_count": 124,
   "metadata": {
    "deletable": false,
    "nbgrader": {
     "checksum": "e4b1cc5e3deefd24be992fbee18d0e74",
     "grade": false,
     "grade_id": "cell-a4f39737f38aa53c",
     "locked": false,
     "schema_version": 1,
     "solution": true
    }
   },
   "outputs": [
    {
     "data": {
      "text/plain": [
       "('China', 0.6893126179389422)"
      ]
     },
     "execution_count": 124,
     "metadata": {},
     "output_type": "execute_result"
    }
   ],
   "source": [
    "def answer_seven():\n",
    "    m = answer_one()\n",
    "    t = (m['Self-citations']/m['Citations']).dropna()\n",
    "    t = t.sort_values()\n",
    "   # raise NotImplementedError()\n",
    "    return (t[t == t[-1]].index[0],t[-1])\n",
    "answer_seven()"
   ]
  },
  {
   "cell_type": "code",
   "execution_count": 125,
   "metadata": {
    "deletable": false,
    "editable": false,
    "nbgrader": {
     "checksum": "ca448b3a16b65a3a08533cac736cc4d9",
     "grade": true,
     "grade_id": "cell-b7a163e9231b88c9",
     "locked": true,
     "points": 6.66,
     "schema_version": 1,
     "solution": false
    }
   },
   "outputs": [],
   "source": [
    "assert type(answer_seven()) == tuple, \"Q7: You should return a tuple!\"\n",
    "\n",
    "assert type(answer_seven()[0]) == str, \"Q7: The first element in your result should be the name of the country!\"\n"
   ]
  },
  {
   "cell_type": "markdown",
   "metadata": {
    "deletable": false,
    "editable": false,
    "nbgrader": {
     "checksum": "7be7b86ee7467539dd88746818c78c0e",
     "grade": false,
     "grade_id": "cell-5c89296ab6f94218",
     "locked": true,
     "schema_version": 1,
     "solution": false
    }
   },
   "source": [
    "### Question 8\n",
    "\n",
    "Create a column that estimates the population using Energy Supply and Energy Supply per capita. \n",
    "What is the third most populous country according to this estimate?\n",
    "\n",
    "*This function should return the name of the country*"
   ]
  },
  {
   "cell_type": "code",
   "execution_count": 126,
   "metadata": {
    "deletable": false,
    "nbgrader": {
     "checksum": "9d733b2abf089b1931e2e792ff51d488",
     "grade": false,
     "grade_id": "cell-9ca58137846b84d6",
     "locked": false,
     "schema_version": 1,
     "solution": true
    }
   },
   "outputs": [
    {
     "data": {
      "text/plain": [
       "'United States'"
      ]
     },
     "execution_count": 126,
     "metadata": {},
     "output_type": "execute_result"
    }
   ],
   "source": [
    "def answer_eight():\n",
    "    m = answer_one()\n",
    "    t = (m['Energy Supply per Capita']/m['Energy Supply']).dropna()\n",
    "    t = t.sort_values()\n",
    "    return t[t == t[2]].index[0]\n",
    "    #raise NotImplementedError()\n",
    "answer_eight()"
   ]
  },
  {
   "cell_type": "code",
   "execution_count": 127,
   "metadata": {
    "deletable": false,
    "editable": false,
    "nbgrader": {
     "checksum": "ba2ad50cf8198767b0bd2f75b8d97e87",
     "grade": true,
     "grade_id": "cell-3f3620c88df08b20",
     "locked": true,
     "points": 0,
     "schema_version": 1,
     "solution": false
    }
   },
   "outputs": [],
   "source": [
    "assert type(answer_eight()) == str, \"Q8: You should return the name of the country!\"\n"
   ]
  },
  {
   "cell_type": "markdown",
   "metadata": {
    "deletable": false,
    "editable": false,
    "nbgrader": {
     "checksum": "164cba98164a1045db7de10dd37115c8",
     "grade": false,
     "grade_id": "cell-2065207e66e5ec01",
     "locked": true,
     "schema_version": 1,
     "solution": false
    }
   },
   "source": [
    "### Question 9\n",
    "Create a column that estimates the number of citable documents per person. \n",
    "What is the correlation between the number of citable documents per capita and the energy supply per capita? Use the `.corr()` method, (Pearson's correlation).\n",
    "\n",
    "*This function should return a single number.*\n",
    "\n",
    "*(Optional: Use the built-in function `plot9()` to visualize the relationship between Energy Supply per Capita vs. Citable docs per Capita)*"
   ]
  },
  {
   "cell_type": "code",
   "execution_count": 128,
   "metadata": {
    "deletable": false,
    "nbgrader": {
     "checksum": "94e06c4c3a9618b94dbb0e86913b546c",
     "grade": false,
     "grade_id": "cell-033679ea456bfb9d",
     "locked": false,
     "schema_version": 1,
     "solution": true
    }
   },
   "outputs": [
    {
     "data": {
      "text/plain": [
       "0.7940010435442943"
      ]
     },
     "execution_count": 128,
     "metadata": {},
     "output_type": "execute_result"
    }
   ],
   "source": [
    "def answer_nine():\n",
    "    import scipy.stats as stats\n",
    "    import matplotlib.pyplot as plt\n",
    "    t = answer_one()\n",
    "    t['PopEst'] = t['Energy Supply'] / t['Energy Supply per Capita']\n",
    "    t['Citable docs per Capita'] = t['Citable documents'] / t['PopEst']\n",
    "    #raise NotImplementedError()\n",
    "    #plt.scatter('Citable docs per Capita','Energy Supply per Capita',data = t)\n",
    "    m =  t['Citable docs per Capita']\n",
    "    n = t['Energy Supply per Capita']\n",
    "    corr, pval =stats.pearsonr(m,n)\n",
    "    return corr\n",
    "answer_nine()"
   ]
  },
  {
   "cell_type": "code",
   "execution_count": 129,
   "metadata": {
    "deletable": false,
    "editable": false,
    "nbgrader": {
     "checksum": "01a146bbcca0fa9c9c13e71ab52e710f",
     "grade": false,
     "grade_id": "cell-644824f6c708bf80",
     "locked": true,
     "schema_version": 1,
     "solution": false
    }
   },
   "outputs": [],
   "source": [
    "def plot9():\n",
    "    import matplotlib as plt\n",
    "    %matplotlib inline\n",
    "    \n",
    "    Top15 = answer_one()\n",
    "    Top15['PopEst'] = Top15['Energy Supply'] / Top15['Energy Supply per Capita']\n",
    "    Top15['Citable docs per Capita'] = Top15['Citable documents'] / Top15['PopEst']\n",
    "    Top15.plot(x='Citable docs per Capita', y='Energy Supply per Capita', kind='scatter', xlim=[0, 0.0006])"
   ]
  },
  {
   "cell_type": "code",
   "execution_count": 130,
   "metadata": {
    "deletable": false,
    "editable": false,
    "nbgrader": {
     "checksum": "8dced1dde88b6877f89bdec482870476",
     "grade": true,
     "grade_id": "cell-3cb5c699065a4a20",
     "locked": true,
     "points": 6.66,
     "schema_version": 1,
     "solution": false
    }
   },
   "outputs": [],
   "source": [
    "assert answer_nine() >= -1. and answer_nine() <= 1., \"Q9: A valid correlation should between -1 to 1!\"\n"
   ]
  },
  {
   "cell_type": "markdown",
   "metadata": {
    "deletable": false,
    "editable": false,
    "nbgrader": {
     "checksum": "8af5ffad89be1e5c6292438724d6f8d5",
     "grade": false,
     "grade_id": "cell-ad09765e29b91157",
     "locked": true,
     "schema_version": 1,
     "solution": false
    }
   },
   "source": [
    "### Question 10\n",
    "Create a new column with a 1 if the country's % Renewable value is at or above the median for all countries in the top 15, and a 0 if the country's % Renewable value is below the median.\n",
    "\n",
    "*This function should return a series named `HighRenew` whose index is the country name sorted in ascending order of rank.*"
   ]
  },
  {
   "cell_type": "code",
   "execution_count": 131,
   "metadata": {
    "deletable": false,
    "nbgrader": {
     "checksum": "340c06bd50a9a027a2190674cfb981b9",
     "grade": false,
     "grade_id": "cell-0fdf60e64bf1a4f9",
     "locked": false,
     "schema_version": 1,
     "solution": true
    }
   },
   "outputs": [
    {
     "data": {
      "text/plain": [
       "Country\n",
       "China                1.000000\n",
       "United States        0.000000\n",
       "Japan                0.000000\n",
       "United Kingdom       0.000000\n",
       "Russian Federation   1.000000\n",
       "Canada               1.000000\n",
       "Germany              1.000000\n",
       "India                0.000000\n",
       "France               1.000000\n",
       "South Korea          0.000000\n",
       "Italy                1.000000\n",
       "Spain                1.000000\n",
       "Iran                 0.000000\n",
       "Australia            0.000000\n",
       "Brazil               1.000000\n",
       "Name: AOB, dtype: float64"
      ]
     },
     "execution_count": 131,
     "metadata": {},
     "output_type": "execute_result"
    }
   ],
   "source": [
    "def answer_ten():\n",
    "    t = answer_one()\n",
    "    m = t['% Renewable'].median()\n",
    "    t.loc[t['% Renewable'] >= m, 'AOB']= 1\n",
    "    t.loc[t['% Renewable'] < m, 'AOB']= 0\n",
    "    #raise NotImplementedError()\n",
    "    return t['AOB']\n",
    "answer_ten()"
   ]
  },
  {
   "cell_type": "code",
   "execution_count": 132,
   "metadata": {
    "deletable": false,
    "editable": false,
    "nbgrader": {
     "checksum": "f624e6996eca5796eaf27fb4d0593175",
     "grade": true,
     "grade_id": "cell-b29a631fd9a7730f",
     "locked": true,
     "points": 6.66,
     "schema_version": 1,
     "solution": false
    }
   },
   "outputs": [],
   "source": [
    "assert type(answer_ten()) == pd.Series, \"Q10: You should return a Series!\"\n"
   ]
  },
  {
   "cell_type": "markdown",
   "metadata": {
    "deletable": false,
    "editable": false,
    "nbgrader": {
     "checksum": "52f682e7066791c34cd3b2402855cbf5",
     "grade": false,
     "grade_id": "cell-677c51ba711c3af7",
     "locked": true,
     "schema_version": 1,
     "solution": false
    }
   },
   "source": [
    "### Question 11\n",
    "Use the following dictionary to group the Countries by Continent, then create a DataFrame that displays the sample size (the number of countries in each continent bin), and the sum, mean, and std deviation for the estimated population of each country.\n",
    "\n",
    "```python\n",
    "ContinentDict  = {'China':'Asia', \n",
    "                  'United States':'North America', \n",
    "                  'Japan':'Asia', \n",
    "                  'United Kingdom':'Europe', \n",
    "                  'Russian Federation':'Europe', \n",
    "                  'Canada':'North America', \n",
    "                  'Germany':'Europe', \n",
    "                  'India':'Asia',\n",
    "                  'France':'Europe', \n",
    "                  'South Korea':'Asia', \n",
    "                  'Italy':'Europe', \n",
    "                  'Spain':'Europe', \n",
    "                  'Iran':'Asia',\n",
    "                  'Australia':'Australia', \n",
    "                  'Brazil':'South America'}\n",
    "```\n",
    "\n",
    "*This function should return a DataFrame with index named Continent `['Asia', 'Australia', 'Europe', 'North America', 'South America']` and columns `['size', 'sum', 'mean', 'std']`*"
   ]
  },
  {
   "cell_type": "code",
   "execution_count": 133,
   "metadata": {},
   "outputs": [],
   "source": [
    "def numbers_to_strings(m,cd):\n",
    "    a,b,c,d,e = ([] for i in range(5))\n",
    "    for i in m:\n",
    "        if cd[i] =='Asia' : a.append(i)\n",
    "        elif cd[i] =='North America' : b.append(i),\n",
    "        elif cd[i] =='Europe' : c.append(i),\n",
    "        elif cd[i] =='South America' : d.append(i), \n",
    "        elif cd[i] =='Australia' : e.append(i)\n",
    "        else: continue\n",
    "    return a,b,c,d,e"
   ]
  },
  {
   "cell_type": "code",
   "execution_count": 134,
   "metadata": {
    "deletable": false,
    "nbgrader": {
     "checksum": "b55846bc20cd01b0acbcb776504a766d",
     "grade": false,
     "grade_id": "cell-a5e0c0df27304f98",
     "locked": false,
     "schema_version": 1,
     "solution": true
    }
   },
   "outputs": [
    {
     "data": {
      "text/html": [
       "<div>\n",
       "<style scoped>\n",
       "    .dataframe tbody tr th:only-of-type {\n",
       "        vertical-align: middle;\n",
       "    }\n",
       "\n",
       "    .dataframe tbody tr th {\n",
       "        vertical-align: top;\n",
       "    }\n",
       "\n",
       "    .dataframe thead th {\n",
       "        text-align: right;\n",
       "    }\n",
       "</style>\n",
       "<table border=\"1\" class=\"dataframe\">\n",
       "  <thead>\n",
       "    <tr style=\"text-align: right;\">\n",
       "      <th></th>\n",
       "      <th>size</th>\n",
       "      <th>sum</th>\n",
       "      <th>mean</th>\n",
       "      <th>std</th>\n",
       "    </tr>\n",
       "  </thead>\n",
       "  <tbody>\n",
       "    <tr>\n",
       "      <th>Asia</th>\n",
       "      <td>5.000000</td>\n",
       "      <td>2898666386.610600</td>\n",
       "      <td>579733277.322120</td>\n",
       "      <td>679097888.366095</td>\n",
       "    </tr>\n",
       "    <tr>\n",
       "      <th>Australia</th>\n",
       "      <td>1.000000</td>\n",
       "      <td>23316017.316017</td>\n",
       "      <td>23316017.316017</td>\n",
       "      <td>nan</td>\n",
       "    </tr>\n",
       "    <tr>\n",
       "      <th>Europe</th>\n",
       "      <td>6.000000</td>\n",
       "      <td>457929667.216372</td>\n",
       "      <td>76321611.202729</td>\n",
       "      <td>34647667.065623</td>\n",
       "    </tr>\n",
       "    <tr>\n",
       "      <th>North America</th>\n",
       "      <td>2.000000</td>\n",
       "      <td>352855249.480250</td>\n",
       "      <td>176427624.740125</td>\n",
       "      <td>199669644.856668</td>\n",
       "    </tr>\n",
       "    <tr>\n",
       "      <th>South America</th>\n",
       "      <td>1.000000</td>\n",
       "      <td>205915254.237288</td>\n",
       "      <td>205915254.237288</td>\n",
       "      <td>nan</td>\n",
       "    </tr>\n",
       "  </tbody>\n",
       "</table>\n",
       "</div>"
      ],
      "text/plain": [
       "                  size               sum             mean              std\n",
       "Asia          5.000000 2898666386.610600 579733277.322120 679097888.366095\n",
       "Australia     1.000000   23316017.316017  23316017.316017              nan\n",
       "Europe        6.000000  457929667.216372  76321611.202729  34647667.065623\n",
       "North America 2.000000  352855249.480250 176427624.740125 199669644.856668\n",
       "South America 1.000000  205915254.237288 205915254.237288              nan"
      ]
     },
     "execution_count": 134,
     "metadata": {},
     "output_type": "execute_result"
    }
   ],
   "source": [
    "def answer_eleven():\n",
    "    from statistics import mean,stdev\n",
    "    t = answer_one()\n",
    "    cd=  {'China':'Asia', 'United States':'North America', 'Japan':'Asia', 'United Kingdom':'Europe', 'Russian Federation':'Europe', 'Canada':'North America', \n",
    "          'Germany':'Europe', 'India':'Asia','France':'Europe', 'South Korea':'Asia', 'Italy':'Europe', 'Spain':'Europe', 'Iran':'Asia',\n",
    "          'Australia':'Australia', 'Brazil':'South America'}\n",
    "    a,b,c,d,e=numbers_to_strings(t.index.values,cd)\n",
    "    t['PopEst'] = t['Energy Supply'] / t['Energy Supply per Capita']\n",
    "    y = ['Asia', 'Australia', 'Europe', 'North America', 'South America']\n",
    "    f= {}\n",
    "    for i,m in zip( [a,e,c,b,d],y):\n",
    "        p,q = 0,[]\n",
    "        for j in i:\n",
    "            p += t['PopEst'][j]\n",
    "            q.append(t['PopEst'][j])\n",
    "        x = ['size', 'sum', 'mean', 'std']\n",
    "        r = p / len(q)\n",
    "        if len(q)  == 1:\n",
    "            s = None\n",
    "        else:\n",
    "            s = stdev(q)\n",
    "        f[m] = {'size':len(q),'sum':p,'mean':r,'std': s}\n",
    "    g = pd.DataFrame.from_dict(f)\n",
    "    return g.T\n",
    "    #raise NotImplementedError()\n",
    "answer_eleven()"
   ]
  },
  {
   "cell_type": "code",
   "execution_count": 135,
   "metadata": {
    "deletable": false,
    "editable": false,
    "nbgrader": {
     "checksum": "233318097d9c94fdc87395c967da14c4",
     "grade": true,
     "grade_id": "cell-18d1a07971b25743",
     "locked": true,
     "points": 6.66,
     "schema_version": 1,
     "solution": false
    }
   },
   "outputs": [],
   "source": [
    "assert type(answer_eleven()) == pd.DataFrame, \"Q11: You should return a DataFrame!\"\n",
    "\n",
    "assert answer_eleven().shape[0] == 5, \"Q11: Wrong row numbers!\"\n",
    "\n",
    "assert answer_eleven().shape[1] == 4, \"Q11: Wrong column numbers!\"\n"
   ]
  },
  {
   "cell_type": "markdown",
   "metadata": {
    "deletable": false,
    "editable": false,
    "nbgrader": {
     "checksum": "78d9dbb8ff6e0a1ac1e0d16e026a7d98",
     "grade": false,
     "grade_id": "cell-fa26f5c1eac39c6c",
     "locked": true,
     "schema_version": 1,
     "solution": false
    }
   },
   "source": [
    "### Question 12\n",
    "Cut % Renewable into 5 bins. Group Top15 by the Continent, as well as these new % Renewable bins. How many countries are in each of these groups?\n",
    "\n",
    "*This function should return a Series with a MultiIndex of `Continent`, then the bins for `% Renewable`. Do not include groups with no countries.*"
   ]
  },
  {
   "cell_type": "code",
   "execution_count": 269,
   "metadata": {
    "deletable": false,
    "nbgrader": {
     "checksum": "27eb27ec7a3347530174f7047288a881",
     "grade": false,
     "grade_id": "cell-2ecd9a4076abd8f0",
     "locked": false,
     "schema_version": 1,
     "solution": true
    }
   },
   "outputs": [
    {
     "data": {
      "text/plain": [
       "Continent      % Renewable     \n",
       "Asia           (2.212, 15.753]     4\n",
       "               (15.753, 29.227]    1\n",
       "Australia      (2.212, 15.753]     1\n",
       "Europe         (2.212, 15.753]     1\n",
       "               (15.753, 29.227]    3\n",
       "               (29.227, 42.701]    2\n",
       "North America  (2.212, 15.753]     1\n",
       "               (56.174, 69.648]    1\n",
       "South America  (56.174, 69.648]    1\n",
       "dtype: int64"
      ]
     },
     "execution_count": 269,
     "metadata": {},
     "output_type": "execute_result"
    }
   ],
   "source": [
    "def answer_twelve():\n",
    "    df = answer_one()\n",
    "    df[\"Continent\"] = np.nan\n",
    "    df['Bins'] = pd.cut(df['% Renewable'],5)\n",
    "    cd=  {'China':'Asia', 'United States':'North America', 'Japan':'Asia', 'United Kingdom':'Europe', 'Russian Federation':'Europe', 'Canada':'North America', \n",
    "          'Germany':'Europe', 'India':'Asia','France':'Europe', 'South Korea':'Asia', 'Italy':'Europe', 'Spain':'Europe', 'Iran':'Asia',\n",
    "          'Australia':'Australia', 'Brazil':'South America'}\n",
    "    for i in df.index.values:\n",
    "        if i in cd:\n",
    "            df['Continent'][i] = cd[i]\n",
    "    #raise NotImplementedError()\n",
    "    m =df.groupby([ 'Continent','Bins'  ]).size()\n",
    "    m= m.rename_axis(['Continent','% Renewable'])\n",
    "    return m\n",
    "answer_twelve()"
   ]
  },
  {
   "cell_type": "code",
   "execution_count": 219,
   "metadata": {
    "deletable": false,
    "editable": false,
    "nbgrader": {
     "checksum": "79ed0cf577c7941dc357efd8bf1c5d26",
     "grade": true,
     "grade_id": "cell-6c665602d6babab9",
     "locked": true,
     "points": 6.66,
     "schema_version": 1,
     "solution": false
    }
   },
   "outputs": [],
   "source": [
    "assert type(answer_twelve()) == pd.Series, \"Q12: You should return a Series!\"\n",
    "\n",
    "assert len(answer_twelve()) == 9, \"Q12: Wrong result numbers!\"\n"
   ]
  },
  {
   "cell_type": "markdown",
   "metadata": {
    "deletable": false,
    "editable": false,
    "nbgrader": {
     "checksum": "bdfd9b1bb897304b6337fdc47a05967c",
     "grade": false,
     "grade_id": "cell-4209a10d8f208739",
     "locked": true,
     "schema_version": 1,
     "solution": false
    }
   },
   "source": [
    "### Question 13\n",
    "Convert the Population Estimate series to a string with thousands separator (using commas). Use all significant digits (do not round the results).\n",
    "\n",
    "e.g. 12345678.90 -> 12,345,678.90\n",
    "\n",
    "*This function should return a series `PopEst` whose index is the country name and whose values are the population estimate string*"
   ]
  },
  {
   "cell_type": "code",
   "execution_count": 209,
   "metadata": {},
   "outputs": [],
   "source": [
    "def thousand_count(m):\n",
    "    count=0\n",
    "    n = str(m)\n",
    "    t= n.split('.')\n",
    "    u = \"{:,.0f}\". format(int(t[0]))\n",
    "    if len(t) == 1:\n",
    "        return u\n",
    "    else:\n",
    "        return (u+'.'+t[1])"
   ]
  },
  {
   "cell_type": "code",
   "execution_count": 210,
   "metadata": {
    "deletable": false,
    "nbgrader": {
     "checksum": "1efd09964334b7d6100d81d4b3ead3e9",
     "grade": false,
     "grade_id": "cell-58eb0ee0921d93fb",
     "locked": false,
     "schema_version": 1,
     "solution": true
    }
   },
   "outputs": [
    {
     "data": {
      "text/plain": [
       "China                 1,367,645,161.2903225\n",
       "United States          317,615,384.61538464\n",
       "Japan                  127,409,395.97315437\n",
       "United Kingdom         63,870,967.741935484\n",
       "Russian Federation            143,500,000.0\n",
       "Canada                  35,239,864.86486486\n",
       "Germany                 80,369,696.96969697\n",
       "India                 1,276,730,769.2307692\n",
       "France                  63,837,349.39759036\n",
       "South Korea            49,805,429.864253394\n",
       "Italy                  59,908,256.880733944\n",
       "Spain                    46,443,396.2264151\n",
       "Iran                    77,075,630.25210084\n",
       "Australia              23,316,017.316017315\n",
       "Brazil                 205,915,254.23728815\n",
       "dtype: object"
      ]
     },
     "execution_count": 210,
     "metadata": {},
     "output_type": "execute_result"
    }
   ],
   "source": [
    "def answer_thirteen():\n",
    "    import locale\n",
    "    import decimal\n",
    "    locale.setlocale( locale.LC_ALL, '' )\n",
    "    t = answer_one()\n",
    "    n ={}\n",
    "    t['PopEst'] = t['Energy Supply'] / t['Energy Supply per Capita']\n",
    "    for i in t.index.values:\n",
    "        m = t['PopEst'][i]\n",
    "        if m.is_integer() ==True:\n",
    "            u = thousand_count(m)\n",
    "            n[i]= u\n",
    "        else:\n",
    "            u = thousand_count(m)\n",
    "            n[i] = u\n",
    "    #raise NotImplementedError()\n",
    "    return pd.Series(n)\n",
    "answer_thirteen()"
   ]
  },
  {
   "cell_type": "code",
   "execution_count": 211,
   "metadata": {
    "deletable": false,
    "editable": false,
    "nbgrader": {
     "checksum": "e014781df77c7edab2a181d2d943be8f",
     "grade": true,
     "grade_id": "cell-10fee7228cf973f6",
     "locked": true,
     "points": 6.74,
     "schema_version": 1,
     "solution": false
    }
   },
   "outputs": [],
   "source": [
    "assert type(answer_thirteen()) == pd.Series, \"Q13: You should return a Series!\"\n",
    "\n",
    "assert len(answer_thirteen()) == 15, \"Q13: Wrong result numbers!\"\n"
   ]
  },
  {
   "cell_type": "markdown",
   "metadata": {
    "deletable": false,
    "editable": false,
    "nbgrader": {
     "checksum": "61562b9b667bd5efbcec0dcd7becbfaa",
     "grade": false,
     "grade_id": "cell-998b62d4f390ef15",
     "locked": true,
     "schema_version": 1,
     "solution": false
    }
   },
   "source": [
    "### Optional\n",
    "\n",
    "Use the built in function `plot_optional()` to see an example visualization."
   ]
  },
  {
   "cell_type": "code",
   "execution_count": null,
   "metadata": {
    "deletable": false,
    "editable": false,
    "nbgrader": {
     "checksum": "479786c97cb5f34d07231c6d7c602a47",
     "grade": false,
     "grade_id": "cell-741fd55ea57cd40a",
     "locked": true,
     "schema_version": 1,
     "solution": false
    }
   },
   "outputs": [],
   "source": [
    "def plot_optional():\n",
    "    import matplotlib as plt\n",
    "    %matplotlib inline\n",
    "    Top15 = answer_one()\n",
    "    ax = Top15.plot(x='Rank', y='% Renewable', kind='scatter', \n",
    "                    c=['#e41a1c','#377eb8','#e41a1c','#4daf4a','#4daf4a','#377eb8','#4daf4a','#e41a1c',\n",
    "                       '#4daf4a','#e41a1c','#4daf4a','#4daf4a','#e41a1c','#dede00','#ff7f00'], \n",
    "                    xticks=range(1,16), s=6*Top15['2014']/10**10, alpha=.75, figsize=[16,6]);\n",
    "\n",
    "    for i, txt in enumerate(Top15.index):\n",
    "        ax.annotate(txt, [Top15['Rank'][i], Top15['% Renewable'][i]], ha='center')\n",
    "\n",
    "    print(\"This is an example of a visualization that can be created to help understand the data. \\\n",
    "This is a bubble chart showing % Renewable vs. Rank. The size of the bubble corresponds to the countries' \\\n",
    "2014 GDP, and the color corresponds to the continent.\")"
   ]
  }
 ],
 "metadata": {
  "anaconda-cloud": {},
  "coursera": {
   "schema_names": [
    "mooc_adswpy_1_v2_assignment3"
   ]
  },
  "kernelspec": {
   "display_name": "Python 3",
   "language": "python",
   "name": "python3"
  },
  "language_info": {
   "codemirror_mode": {
    "name": "ipython",
    "version": 3
   },
   "file_extension": ".py",
   "mimetype": "text/x-python",
   "name": "python",
   "nbconvert_exporter": "python",
   "pygments_lexer": "ipython3",
   "version": "3.7.3"
  }
 },
 "nbformat": 4,
 "nbformat_minor": 4
}
